{
 "cells": [
  {
   "cell_type": "markdown",
   "id": "7bec825a",
   "metadata": {},
   "source": [
    "# (Purpose) Filter and Clean aggregated datasets"
   ]
  },
  {
   "cell_type": "code",
   "execution_count": null,
   "id": "cda2a58f",
   "metadata": {},
   "outputs": [],
   "source": [
    "# ---------------------- FORCE TISSUE TYPES TO BE COMMON--------------\n",
    "FORCE_COMMON_TISSUE_TYPES = TRUE\n",
    "# FORCE_COMMON_TISSUE_TYPES = FALSE\n",
    "\n",
    "# ---------------------- TCGA dataset ---------------------------      \n",
    "filename_tcga_mock = \"tcga_unscaled_unnormalized_nobatchcorrection__mockData.tsv\"  \n",
    "filename_tcga = \"tcga_unscaled_unnormalized_nobatchcorrection.tsv\"    # real data\n",
    "\n",
    "filename_tcga_w_path_mock = paste(\"data/preprocessing_combinations/\", filename_tcga_mock, sep=\"\")\n",
    "filename_tcga_w_path = paste(\"data/preprocessing_combinations/\", filename_tcga, sep=\"\")\n",
    "\n",
    "\n",
    "\n",
    "# ---------------------- GTEx dataset ---------------------------    \n",
    "filename_gtex_mock = \"gtex_unscaled_unnormalized_nobatchcorrection__mockData.tsv\"  \n",
    "filename_gtex = \"gtex_unscaled_unnormalized_nobatchcorrection.tsv\"    # real data\n",
    "\n",
    "filename_gtex_w_path_mock = paste(\"data/preprocessing_combinations/\", filename_gtex_mock, sep=\"\")\n",
    "filename_gtex_w_path = paste(\"data/preprocessing_combinations/\", filename_gtex, sep=\"\")\n"
   ]
  },
  {
   "cell_type": "markdown",
   "id": "9dfdacea",
   "metadata": {},
   "source": [
    "## Install and load packages required in R"
   ]
  },
  {
   "cell_type": "code",
   "execution_count": null,
   "id": "11ee9f06",
   "metadata": {},
   "outputs": [],
   "source": [
    "# install packages\n",
    "print(\"  begin -- installing R packages\")\n",
    "\n",
    "options(install.packages.compile.from.source = \"always\")\n",
    "install.packages(\"dplyr\", repos = getCRANmirrors()[1,\"URL\"])\n",
    "install.packages(\"readr\", repos = getCRANmirrors()[1,\"URL\"])\n",
    "install.packages(\"data.table\", repos = getCRANmirrors()[1,\"URL\"])\n",
    "\n",
    "print(\"  done  -- installing R packages\")"
   ]
  },
  {
   "cell_type": "code",
   "execution_count": null,
   "id": "bee43477",
   "metadata": {},
   "outputs": [],
   "source": [
    "# load packages\n",
    "print(\"  begin -- loading packages\")\n",
    "\n",
    "library(dplyr)                  \n",
    "library(readr)                  \n",
    "library(data.table)             \n",
    "\n",
    "print(\"  done  -- loading packages\")"
   ]
  },
  {
   "cell_type": "markdown",
   "id": "b076ba56",
   "metadata": {},
   "source": [
    "## Load GTEx data and subset"
   ]
  },
  {
   "cell_type": "code",
   "execution_count": null,
   "id": "a2d75113",
   "metadata": {},
   "outputs": [],
   "source": [
    "# load table with readr package\n",
    "# (remember) the # rows total does not include header row\n",
    "sprintf(\"  loading gtex mock table -- %s\", filename_gtex_mock)\n",
    "samples_gtex_mock <- read_tsv(filename_gtex_w_path_mock)\n",
    "print(\"  finished loading mock table\")\n",
    "\n",
    "sprintf(\"  loading gtex real table -- %s\", filename_gtex)\n",
    "samples_gtex <- read_tsv(filename_gtex_w_path)\n",
    "print(\"  finished loading real table\")"
   ]
  },
  {
   "cell_type": "code",
   "execution_count": null,
   "id": "a10996ec",
   "metadata": {},
   "outputs": [],
   "source": [
    "# preview the top and bottom this table of mock data before sorting\n",
    "head(samples_gtex_mock[,1:5], 2)\n",
    "tail(samples_gtex_mock[,1:5], 2)"
   ]
  },
  {
   "cell_type": "code",
   "execution_count": null,
   "id": "25871e93",
   "metadata": {},
   "outputs": [],
   "source": [
    "# preview the top and bottom this table of real data before sorting\n",
    "head(samples_gtex[,1:5], 2)\n",
    "tail(samples_gtex[,1:5], 2)"
   ]
  },
  {
   "cell_type": "code",
   "execution_count": null,
   "id": "478f74fb",
   "metadata": {},
   "outputs": [],
   "source": [
    "print(\"  sort by label then by sample_id\")\n",
    "samples_gtex_mock <- samples_gtex_mock %>%\n",
    "   group_by(label) %>%\n",
    "   arrange(sample_id, .by_group = TRUE)\n",
    "\n",
    "samples_gtex <- samples_gtex %>%\n",
    "   group_by(label) %>%\n",
    "   arrange(sample_id, .by_group = TRUE)"
   ]
  },
  {
   "cell_type": "code",
   "execution_count": null,
   "id": "d91695e1",
   "metadata": {},
   "outputs": [],
   "source": [
    "# preview the top and bottom this table of mock data after sorting by label\n",
    "head(samples_gtex_mock[,1:5], 2)\n",
    "tail(samples_gtex_mock[,1:5], 2)"
   ]
  },
  {
   "cell_type": "code",
   "execution_count": null,
   "id": "e41f0f73",
   "metadata": {},
   "outputs": [],
   "source": [
    "# preview the top and bottom this table of real data after sorting by label\n",
    "head(samples_gtex[,1:5], 2)\n",
    "tail(samples_gtex[,1:5], 2)"
   ]
  },
  {
   "cell_type": "code",
   "execution_count": null,
   "id": "4478d1ef",
   "metadata": {},
   "outputs": [],
   "source": [
    "print(\"  checking tally of labels on mock gtex dataset\")\n",
    "samples_gtex_mock %>%\n",
    "      group_by(label) %>%\n",
    "      tally()"
   ]
  },
  {
   "cell_type": "code",
   "execution_count": null,
   "id": "805e70d0",
   "metadata": {},
   "outputs": [],
   "source": [
    "print(\"  checking tally of labels on real gtex dataset\")\n",
    "samples_gtex %>%\n",
    "      group_by(label) %>%\n",
    "      tally()"
   ]
  },
  {
   "cell_type": "markdown",
   "id": "0097ac6e-5cab-4a95-b6f4-a4eea1311735",
   "metadata": {},
   "source": [
    "### Determine what tissue types are the minimum set in the independent set"
   ]
  },
  {
   "cell_type": "code",
   "execution_count": null,
   "id": "5a611e6a-5968-4c5c-bb47-37fdddae996e",
   "metadata": {},
   "outputs": [],
   "source": [
    "if (FORCE_COMMON_TISSUE_TYPES){\n",
    "    print (\" -----------------------------------------------------------------------\")    \n",
    "    print (\" [NOTICE] FORCE_COMMON_TISSUE_TYPES is TRUE; thus we will drop tissue types in TCGA training set\")\n",
    "    print (\" -----------------------------------------------------------------------\") \n",
    "    \n",
    "    # filter for unique values in one column\n",
    "    minimum_tissue_types <- samples_gtex %>%\n",
    "        distinct (label) %>%\n",
    "        pull (label)\n",
    "    print (minimum_tissue_types)\n",
    "}\n"
   ]
  },
  {
   "cell_type": "markdown",
   "id": "ec64da3b",
   "metadata": {},
   "source": [
    "## Load TCGA data and subset"
   ]
  },
  {
   "cell_type": "code",
   "execution_count": null,
   "id": "a74e6d42",
   "metadata": {},
   "outputs": [],
   "source": [
    "\n",
    "# load table with readr package\n",
    "# (remember) the # rows total does not include header row\n",
    "sprintf(\"  loading tcga mock table -- %s\", filename_tcga_mock)\n",
    "samples_mock <- read_tsv(filename_tcga_w_path_mock)\n",
    "print(\"  finished loading mock table\")\n",
    "\n",
    "sprintf(\"  loading tcga real table -- %s\", filename_tcga)\n",
    "samples <- read_tsv(filename_tcga_w_path)\n",
    "print(\"  finished loading real table\")"
   ]
  },
  {
   "cell_type": "code",
   "execution_count": null,
   "id": "210574bf",
   "metadata": {},
   "outputs": [],
   "source": [
    "# preview the top and bottom of the mock data before sorting by label\n",
    "head(samples_mock[,1:5], 2)\n",
    "tail(samples_mock[,1:5], 2)"
   ]
  },
  {
   "cell_type": "code",
   "execution_count": null,
   "id": "cba9e4a3",
   "metadata": {},
   "outputs": [],
   "source": [
    "# preview the top and bottom of the real data before sorting by label\n",
    "head(samples[,1:5], 2)\n",
    "tail(samples[,1:5], 2)"
   ]
  },
  {
   "cell_type": "code",
   "execution_count": null,
   "id": "e3648382",
   "metadata": {},
   "outputs": [],
   "source": [
    "print(\"  sort by label then by sample_id\")\n",
    "samples_mock <- samples_mock %>%\n",
    "   group_by(label) %>%\n",
    "   arrange(sample_id, .by_group = TRUE)\n",
    "\n",
    "samples <- samples %>%\n",
    "   group_by(label) %>%\n",
    "   arrange(sample_id, .by_group = TRUE)\n",
    "      "
   ]
  },
  {
   "cell_type": "code",
   "execution_count": null,
   "id": "637142a4",
   "metadata": {},
   "outputs": [],
   "source": [
    "# preview the top and bottom of the mock data after sorting by label\n",
    "head(samples_mock[,1:5], 2)\n",
    "tail(samples_mock[,1:5], 2)"
   ]
  },
  {
   "cell_type": "code",
   "execution_count": null,
   "id": "8b79753c",
   "metadata": {},
   "outputs": [],
   "source": [
    "# preview the top and bottom of the real data after sorting by label\n",
    "head(samples[,1:5], 2)\n",
    "tail(samples[,1:5], 2)"
   ]
  },
  {
   "cell_type": "code",
   "execution_count": null,
   "id": "ad18f6b1",
   "metadata": {},
   "outputs": [],
   "source": [
    "print(\"  checking tally of labels before modifications on mock tcga dataset\")\n",
    "samples_mock %>%\n",
    "      group_by(label) %>%\n",
    "      tally()"
   ]
  },
  {
   "cell_type": "code",
   "execution_count": null,
   "id": "7c6cecda",
   "metadata": {},
   "outputs": [],
   "source": [
    "print(\"  checking tally of labels before modifications on real tcga dataset\")\n",
    "samples %>%\n",
    "      group_by(label) %>%\n",
    "      tally()"
   ]
  },
  {
   "cell_type": "markdown",
   "id": "c694caf7",
   "metadata": {},
   "source": [
    "### Regarding ESCC, STAD.EBV, and LUSC\n",
    "\n",
    "- (from DrHan ) *Oh those are labels that came out of the GI paper that identified subtypes within GI\n",
    "I think I separated or included lusc because turns out squamous cell type is one of the culprits for the Mis classification and i wanted to see how lusc behave. They are informative for interpreting the misclassifications. Because misclassifications tend to map to those subtypes in gi or squamous cell types*"
   ]
  },
  {
   "cell_type": "code",
   "execution_count": null,
   "id": "04a4e0b1",
   "metadata": {},
   "outputs": [],
   "source": [
    "print(\"  drop the sample types (ESCC, LUSC, STAD.EBV) that are being used for miscalculation exploration\")  \n",
    "samples_mock <- samples_mock  %>% \n",
    "    filter(label != \"ESCC\") %>% \n",
    "    filter(label != \"STAD.EBV\") %>% \n",
    "    filter(label != \"LUSC\") \n",
    "\n",
    "samples <- samples  %>% \n",
    "    filter(label != \"ESCC\") %>% \n",
    "    filter(label != \"STAD.EBV\") %>% \n",
    "    filter(label != \"LUSC\") "
   ]
  },
  {
   "cell_type": "markdown",
   "id": "03edd3af-b1c3-4d0c-8b93-d4b07d6ac481",
   "metadata": {},
   "source": [
    "### If applicable - drop tissue types from TCGA train data"
   ]
  },
  {
   "cell_type": "code",
   "execution_count": null,
   "id": "99d75536-1fb3-49af-8fb9-79c2e3f09f7c",
   "metadata": {},
   "outputs": [],
   "source": [
    "if (FORCE_COMMON_TISSUE_TYPES){\n",
    "    print(\"    performing actual subset function that drops tissue types\")\n",
    "    samples_mock <- samples_mock  %>% \n",
    "        filter(label %in% minimum_tissue_types)\n",
    "    samples <- samples  %>% \n",
    "        filter(label %in% minimum_tissue_types)\n",
    "}\n"
   ]
  },
  {
   "cell_type": "code",
   "execution_count": null,
   "id": "454116e0",
   "metadata": {},
   "outputs": [],
   "source": [
    "print(\"  checking tally of labels after modifications on mock tcga dataset\")\n",
    "samples_mock %>%\n",
    "      group_by(label) %>%\n",
    "      tally()"
   ]
  },
  {
   "cell_type": "code",
   "execution_count": null,
   "id": "eb6a4713",
   "metadata": {},
   "outputs": [],
   "source": [
    "print(\"  checking tally of labels after modifications on real tcga dataset\")\n",
    "samples %>%\n",
    "      group_by(label) %>%\n",
    "      tally()"
   ]
  },
  {
   "cell_type": "code",
   "execution_count": null,
   "id": "9bcb740c",
   "metadata": {},
   "outputs": [],
   "source": [
    "print(\"  checking how many normal samples and how many cancer samples there are\")\n",
    "\n",
    "# Tally up the rows with \"01A\" and \"11A\" in the sample_id column\n",
    "count_01A <- samples %>% filter(grepl(\"-01A\", sample_id)) %>% nrow()           # notice need the dash\n",
    "count_11A <- samples %>% filter(grepl(\"-11A\", sample_id)) %>% nrow()\n",
    "count_either <- samples %>% filter(grepl(\"-11A|-01A\", sample_id)) %>% nrow()   \n",
    "count_both <- samples %>% filter(grepl(\"01A\", sample_id)) %>% filter(grepl(\"11A\", sample_id)) \n",
    "\n",
    "# Display the counts\n",
    "sprintf(\"    01A(cancer): %s\", count_01A)\n",
    "sprintf(\"    11A(normal): %s\", count_11A)\n",
    "sprintf(\"         either: %s\", count_either)\n",
    "sprintf(\"          TOTAL: %s\", count_01A + count_11A)\n",
    "\n",
    "sprintf(\"    samples that have both 01A and 11A in name below:\")\n",
    "head(count_both[,1:5],5)"
   ]
  },
  {
   "cell_type": "code",
   "execution_count": null,
   "id": "878de147",
   "metadata": {},
   "outputs": [],
   "source": [
    "print(\"  checking how many normal samples and how many cancer samples there are in GI\")\n",
    "samples_GI <- samples  %>% \n",
    "    filter(label == \"GI\") \n",
    "\n",
    "# Tally up the rows with \"01A\" and \"11A\" in the sample_id column\n",
    "count_01A <- samples_GI %>% filter(grepl(\"-01A\", sample_id)) %>% nrow()           # notice need the dash\n",
    "count_11A <- samples_GI %>% filter(grepl(\"-11A\", sample_id)) %>% nrow()\n",
    "count_either <- samples_GI %>% filter(grepl(\"-11A|-01A\", sample_id)) %>% nrow()   \n",
    "count_both <- samples_GI %>% filter(grepl(\"01A\", sample_id)) %>% filter(grepl(\"11A\", sample_id)) \n",
    "\n",
    "# Display the counts\n",
    "sprintf(\"    01A(cancer): %s\", count_01A)\n",
    "sprintf(\"    11A(normal): %s\", count_11A)\n",
    "sprintf(\"         either: %s\", count_either)\n",
    "sprintf(\"          TOTAL: %s\", count_01A + count_11A)\n"
   ]
  },
  {
   "cell_type": "markdown",
   "id": "db3f0605",
   "metadata": {},
   "source": [
    "## Split tcga into 80% train and 20% test - real data\n",
    "\n",
    "- (source) https://www.statology.org/train-test-split-r/\n",
    "- need to consider this to prevent data leakage\n",
    "- will need to recombine later before potential batch effect correction\n",
    "- the saved TCGA dataset will not be sorted \n",
    "    * thus before ML, will need to \n",
    "    * extract the top 80% of dataset to get train data\n",
    "    * extract remaining 20% of dataset to get test data"
   ]
  },
  {
   "cell_type": "code",
   "execution_count": null,
   "id": "f41272a7",
   "metadata": {},
   "outputs": [],
   "source": [
    "set.seed(12345)            \n",
    "\n",
    "print(\"  sort tcga by label then by sample_id\")\n",
    "samples <- samples %>%\n",
    "   group_by(label) %>%\n",
    "   arrange(sample_id, .by_group = TRUE)\n",
    "\n",
    "print(\"  perform the actual train-test split at 80%\")\n",
    "samples_tcga_train <- samples  %>% \n",
    "    sample_frac(0.80)\n",
    "samples_tcga_test <- anti_join(samples, samples_tcga_train, by = \"sample_id\" )\n",
    "\n",
    "print(\"  sort tcga_train by label then by sample_id\")\n",
    "samples_tcga_train <- samples_tcga_train %>%\n",
    "   group_by(label) %>%\n",
    "   arrange(sample_id, .by_group = TRUE)\n",
    "\n",
    "print(\"  sort tcga_test by label then by sample_id\")\n",
    "samples_tcga_test <- samples_tcga_test %>%\n",
    "   group_by(label) %>%\n",
    "   arrange(sample_id, .by_group = TRUE)\n",
    "\n",
    "print(\"  checking dimensions and tally of 80% TCGA for train set\")\n",
    "dim(samples_tcga_train)\n",
    "samples_tcga_train %>%\n",
    "      group_by(label) %>%\n",
    "      tally()\n",
    "\n",
    "print(\"  checking dimensions and tally of 20% TCGA for test set\")\n",
    "dim(samples_tcga_test)\n",
    "samples_tcga_test %>%\n",
    "      group_by(label) %>%\n",
    "      tally()"
   ]
  },
  {
   "cell_type": "code",
   "execution_count": null,
   "id": "d17a38eb",
   "metadata": {},
   "outputs": [],
   "source": [
    "print (\"previewing the top and bottom 80% tcga table\") \n",
    "print (head(samples_tcga_train[,1:5], 2) )\n",
    "print (tail(samples_tcga_train[,1:5], 2) )"
   ]
  },
  {
   "cell_type": "code",
   "execution_count": null,
   "id": "8417a1e5",
   "metadata": {},
   "outputs": [],
   "source": [
    "print (\"previewing the top and bottom 20% tcga table\") \n",
    "print (head(samples_tcga_test[,1:5], 2) )\n",
    "print (tail(samples_tcga_test[,1:5], 2) )"
   ]
  },
  {
   "cell_type": "markdown",
   "id": "6b207987",
   "metadata": {},
   "source": [
    "## Split tcga into 80% train and 20% test - mock data"
   ]
  },
  {
   "cell_type": "code",
   "execution_count": null,
   "id": "f9fc7a21",
   "metadata": {},
   "outputs": [],
   "source": [
    "set.seed(12345)            \n",
    "\n",
    "print(\"  sort tcga by label then by sample_id\")\n",
    "samples_mock <- samples_mock %>%\n",
    "   group_by(label) %>%\n",
    "   arrange(sample_id, .by_group = TRUE)\n",
    "\n",
    "print(\"  perform the actual train-test split at 80%\")\n",
    "samples_mock_tcga_train <- samples_mock  %>% \n",
    "    sample_frac(0.80)\n",
    "samples_mock_tcga_test <- anti_join(samples_mock, samples_mock_tcga_train, by = \"sample_id\" )\n",
    "\n",
    "print(\"  sort tcga_train by label then by sample_id\")\n",
    "samples_mock_tcga_train <- samples_mock_tcga_train %>%\n",
    "   group_by(label) %>%\n",
    "   arrange(sample_id, .by_group = TRUE)\n",
    "\n",
    "print(\"  sort tcga_test by label then by sample_id\")\n",
    "samples_mock_tcga_test <- samples_mock_tcga_test %>%\n",
    "   group_by(label) %>%\n",
    "   arrange(sample_id, .by_group = TRUE)\n",
    "\n",
    "print(\"  checking dimensions and tally of 80% TCGA for train set\")\n",
    "dim(samples_mock_tcga_train)\n",
    "samples_mock_tcga_train %>%\n",
    "      group_by(label) %>%\n",
    "      tally()\n",
    "\n",
    "print(\"  checking dimensions and tally of 20% TCGA for test set\")\n",
    "dim(samples_mock_tcga_test)\n",
    "samples_mock_tcga_test %>%\n",
    "      group_by(label) %>%\n",
    "      tally()"
   ]
  },
  {
   "cell_type": "code",
   "execution_count": null,
   "id": "aab2cf8b",
   "metadata": {},
   "outputs": [],
   "source": [
    "print (\"previewing the top and bottom 80% tcga table\") \n",
    "print (head(samples_mock_tcga_train[,1:5], 2) )\n",
    "print (tail(samples_mock_tcga_train[,1:5], 2) )"
   ]
  },
  {
   "cell_type": "code",
   "execution_count": null,
   "id": "f33b8e69",
   "metadata": {},
   "outputs": [],
   "source": [
    "print (\"previewing the top and bottom 20% tcga table\") \n",
    "print (head(samples_mock_tcga_test[,1:5], 2) )\n",
    "print (tail(samples_mock_tcga_test[,1:5], 2) )"
   ]
  },
  {
   "cell_type": "markdown",
   "id": "6aeff890",
   "metadata": {},
   "source": [
    "## Drop genes with zero expression based on 80% TCGA train"
   ]
  },
  {
   "cell_type": "code",
   "execution_count": null,
   "id": "c34c4772",
   "metadata": {},
   "outputs": [],
   "source": [
    "## function to find zero-based genes\n",
    "\n",
    "# (returns) list of genes with zero expression\n",
    "find_zero_expression_genes <- function(arg_data){\n",
    "    print(\"  begin find_zero_expression_genes()\")\n",
    "\n",
    "    # initialize an empty list\n",
    "    zero_gene_list <- list()\n",
    "    \n",
    "    ## working - checks for columns(=genes) where all values zero and prints out the name of gene    \n",
    "    for (column in 1:ncol(arg_data)){\n",
    "        if (all(arg_data[ ,column] == 0)){\n",
    "            cur_col_name = colnames(arg_data)[column]\n",
    "            print(sprintf('  + found all zeroes in col @ %s', cur_col_name))\n",
    "            zero_gene_list <- append(zero_gene_list, cur_col_name)\n",
    "        }\n",
    "    }\n",
    "    \n",
    "    print(sprintf('  + [Total genes found with all zeros] %s', length(zero_gene_list)))\n",
    "    \n",
    "    print(\"  end find_zero_expression_genes()\")\n",
    "    return (zero_gene_list)\n",
    "}"
   ]
  },
  {
   "cell_type": "code",
   "execution_count": null,
   "id": "95b99c4b",
   "metadata": {},
   "outputs": [],
   "source": [
    "## function to drop zero-based genes\n",
    "\n",
    "# (source to help with excluding) https://stackoverflow.com/questions/49515311/dplyr-select-all-variables-except-for-those-contained-in-vector\n",
    "\n",
    "# (returns) updated DF with zero-based genes dropped \n",
    "drop_zero_expression_genes_on_dataset <- function(arg_data, arg_genes_to_drop){\n",
    "    print(\"  begin drop_zero_expression_genes()\")\n",
    "    \n",
    "    print(\"    check dimensions before subset\")\n",
    "    print(dim(arg_data))\n",
    "    \n",
    "    genes_to_drop <- simplify2array(arg_genes_to_drop)\n",
    "    \n",
    "    print(\"    performing actual subset function that drops zero expression genes\")\n",
    "    return_df <- arg_data %>% \n",
    "        select(-any_of(genes_to_drop))\n",
    "    \n",
    "    print(\"    check dimensions after subset\")\n",
    "    print(dim(return_df))\n",
    "    \n",
    "    print(\"  end drop_zero_expression_genes_on_dataset()\")\n",
    "    return (return_df)\n",
    "}"
   ]
  },
  {
   "cell_type": "code",
   "execution_count": null,
   "id": "8deb4fcd",
   "metadata": {},
   "outputs": [],
   "source": [
    "print(\"  finding zero expression genes from -- 80% TCGA train\")\n",
    "genes_to_drop <- find_zero_expression_genes(samples_tcga_train)"
   ]
  },
  {
   "cell_type": "code",
   "execution_count": null,
   "id": "aa62014c",
   "metadata": {},
   "outputs": [],
   "source": [
    "print(\"  dropping zero expression genes for dataset -- 80% TCGA train\")\n",
    "samples_tcga_train <- drop_zero_expression_genes_on_dataset(samples_tcga_train, genes_to_drop)"
   ]
  },
  {
   "cell_type": "code",
   "execution_count": null,
   "id": "35859786",
   "metadata": {},
   "outputs": [],
   "source": [
    "print(\"  dropping zero expression genes for dataset -- 20% TCGA test\")\n",
    "samples_tcga_test <- drop_zero_expression_genes_on_dataset(samples_tcga_test, genes_to_drop)"
   ]
  },
  {
   "cell_type": "code",
   "execution_count": null,
   "id": "e14595b8",
   "metadata": {},
   "outputs": [],
   "source": [
    "print(\"  dropping zero expression genes for dataset -- 100% GTEX test\")\n",
    "samples_gtex <- drop_zero_expression_genes_on_dataset(samples_gtex, genes_to_drop)"
   ]
  },
  {
   "cell_type": "markdown",
   "id": "e7744acc",
   "metadata": {},
   "source": [
    "## Combine 80% of TCGA and 20% of TCGA back into one dataset\n",
    "- *important to not sort before saving*"
   ]
  },
  {
   "cell_type": "code",
   "execution_count": null,
   "id": "6c29200c",
   "metadata": {},
   "outputs": [],
   "source": [
    "print(\"  combining train set (80% TCGA) and test set (20% TCGA) -- real data\")\n",
    "samples <- rbindlist(list(\n",
    "                                    samples_tcga_train, \n",
    "                                    samples_tcga_test\n",
    "                                    ))\n",
    "\n",
    "print(\"  checking dimensions of each individual and combined datasets\")\n",
    "print(\"   (100% TCGA samples)\")\n",
    "print(dim(samples))\n",
    "print(\"   (80%  TCGA samples)\")\n",
    "print(dim(samples_tcga_train))\n",
    "print(\"   (20%  TCGA samples)\")\n",
    "print(dim(samples_tcga_test))"
   ]
  },
  {
   "cell_type": "code",
   "execution_count": null,
   "id": "a745eb25",
   "metadata": {},
   "outputs": [],
   "source": [
    "print(\"  combining train set (80% TCGA) and test set (20% TCGA) -- mock data\")\n",
    "samples_mock <- rbindlist(list(\n",
    "                                    samples_mock_tcga_train, \n",
    "                                    samples_mock_tcga_test\n",
    "                                    ))\n",
    "\n",
    "print(\"  checking dimensions of each individual and combined datasets\")\n",
    "print(\"   (100% TCGA samples)\")\n",
    "print(dim(samples_mock))\n",
    "print(\"   (80%  TCGA samples)\")\n",
    "print(dim(samples_mock_tcga_train))\n",
    "print(\"   (20%  TCGA samples)\")\n",
    "print(dim(samples_mock_tcga_test))"
   ]
  },
  {
   "cell_type": "markdown",
   "id": "88a3aa8a",
   "metadata": {},
   "source": [
    "## Saving TCGA"
   ]
  },
  {
   "cell_type": "code",
   "execution_count": null,
   "id": "7264fcf0",
   "metadata": {},
   "outputs": [],
   "source": [
    "print(\"  saving table back to file \")\n",
    "print(sprintf(\"    writing mock tcga table -- %s\", filename_tcga_mock))\n",
    "write_tsv(samples_mock, filename_tcga_w_path_mock)\n",
    "print(  \"    real mock saved-- \")\n",
    "\n",
    "print(sprintf(\"    writing real tcga table -- %s\", filename_tcga))\n",
    "write_tsv(samples, filename_tcga_w_path)\n",
    "print(  \"    real table saved-- \")"
   ]
  },
  {
   "cell_type": "markdown",
   "id": "da69e6bf",
   "metadata": {},
   "source": [
    "## Saving GTEx"
   ]
  },
  {
   "cell_type": "code",
   "execution_count": null,
   "id": "b4eadd8e",
   "metadata": {},
   "outputs": [],
   "source": [
    "print(\"  saving table back to file \")\n",
    "sprintf(\"    writing mock gtex table -- %s\", filename_gtex_mock)\n",
    "write_tsv(samples_gtex_mock, filename_gtex_w_path_mock)\n",
    "print(  \"    real mock saved-- \")\n",
    "\n",
    "sprintf(\"    writing real gtex table -- %s\", filename_gtex)\n",
    "write_tsv(samples_gtex, filename_gtex_w_path)\n",
    "print(  \"    real table saved-- \")"
   ]
  },
  {
   "cell_type": "code",
   "execution_count": null,
   "id": "706d492d-c564-441e-b2ef-fbe120ab8e69",
   "metadata": {},
   "outputs": [],
   "source": []
  }
 ],
 "metadata": {
  "kernelspec": {
   "display_name": "R",
   "language": "R",
   "name": "ir"
  },
  "language_info": {
   "codemirror_mode": "r",
   "file_extension": ".r",
   "mimetype": "text/x-r-source",
   "name": "R",
   "pygments_lexer": "r",
   "version": "4.1.2"
  }
 },
 "nbformat": 4,
 "nbformat_minor": 5
}
